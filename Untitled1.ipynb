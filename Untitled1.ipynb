{
 "cells": [
  {
   "cell_type": "code",
   "execution_count": null,
   "metadata": {},
   "outputs": [
    {
     "name": "stdout",
     "output_type": "stream",
     "text": [
      "Initialised with 16 image(s) found.\n",
      "Output directory set to C:/Users/CampusUser/Downloads/10knots/10Knots/train/Clove Hitch/DiffuseLight/Loose\\output."
     ]
    },
    {
     "name": "stderr",
     "output_type": "stream",
     "text": [
      "Processing <PIL.Image.Image image mode=RGB size=5184x3456 at 0x23480001F60>:  28%|▎| 280/1000 [20:58<1:46:28,  8.87s/ Samples]                  "
     ]
    }
   ],
   "source": [
    "import Augmentor\n",
    "p = Augmentor.Pipeline(\"C:/Users/CampusUser/Downloads/10knots/10Knots/train/Clove Hitch/DiffuseLight/Loose\")\n",
    "p.rotate(probability=0.7, max_left_rotation=10, max_right_rotation=10)\n",
    "p.zoom(probability=0.5, min_factor=1.1, max_factor=1.5)\n",
    "p.sample(1000)\n",
    "\n",
    "import Augmentor\n",
    "p = Augmentor.Pipeline(\"C:/Users/CampusUser/Downloads/10knots/10Knots/train/Clove Hitch/DiffuseLight/Set\")\n",
    "p.rotate(probability=0.7, max_left_rotation=10, max_right_rotation=10)\n",
    "p.zoom(probability=0.5, min_factor=1.1, max_factor=1.5)\n",
    "p.sample(1000)\n",
    "\n",
    "import Augmentor\n",
    "p = Augmentor.Pipeline(\"C:/Users/CampusUser/Downloads/10knots/10Knots/train/Clove Hitch/DiffuseLight/VeryLoose\")\n",
    "p.rotate(probability=0.7, max_left_rotation=10, max_right_rotation=10)\n",
    "p.zoom(probability=0.5, min_factor=1.1, max_factor=1.5)\n",
    "p.sample(1000)\n",
    "\n",
    "import Augmentor\n",
    "p = Augmentor.Pipeline(\"C:/Users/CampusUser/Downloads/10knots/10Knots/train/Clove Hitch/SourceLight-Above/VeryLoose\")\n",
    "p.rotate(probability=0.7, max_left_rotation=10, max_right_rotation=10)\n",
    "p.zoom(probability=0.5, min_factor=1.1, max_factor=1.5)\n",
    "p.sample(1000)\n",
    "\n",
    "import Augmentor\n",
    "p = Augmentor.Pipeline(\"C:/Users/CampusUser/Downloads/10knots/10Knots/train/Clove Hitch/SourceLight-Above/Loose\")\n",
    "p.rotate(probability=0.7, max_left_rotation=10, max_right_rotation=10)\n",
    "p.zoom(probability=0.5, min_factor=1.1, max_factor=1.5)\n",
    "p.sample(1000)\n",
    "\n",
    "import Augmentor\n",
    "p = Augmentor.Pipeline(\"C:/Users/CampusUser/Downloads/10knots/10Knots/train/Clove Hitch/SourceLight-Above/Set\")\n",
    "p.rotate(probability=0.7, max_left_rotation=10, max_right_rotation=10)\n",
    "p.zoom(probability=0.5, min_factor=1.1, max_factor=1.5)\n",
    "p.sample(1000)\n",
    "\n",
    "import Augmentor\n",
    "p = Augmentor.Pipeline(\"C:/Users/CampusUser/Downloads/10knots/10Knots/train/Clove Hitch/SourceLight-Side/VeryLoose\")\n",
    "p.rotate(probability=0.7, max_left_rotation=10, max_right_rotation=10)\n",
    "p.zoom(probability=0.5, min_factor=1.1, max_factor=1.5)\n",
    "p.sample(1000)\n",
    "\n",
    "import Augmentor\n",
    "p = Augmentor.Pipeline(\"C:/Users/CampusUser/Downloads/10knots/10Knots/train/Clove Hitch/SourceLight-Side/Loose\")\n",
    "p.rotate(probability=0.7, max_left_rotation=10, max_right_rotation=10)\n",
    "p.zoom(probability=0.5, min_factor=1.1, max_factor=1.5)\n",
    "p.sample(1000)\n",
    "\n",
    "import Augmentor\n",
    "p = Augmentor.Pipeline(\"C:/Users/CampusUser/Downloads/10knots/10Knots/train/Clove Hitch/SourceLight-Side/Set\")\n",
    "p.rotate(probability=0.7, max_left_rotation=10, max_right_rotation=10)\n",
    "p.zoom(probability=0.5, min_factor=1.1, max_factor=1.5)\n",
    "p.sample(1000)"
   ]
  },
  {
   "cell_type": "code",
   "execution_count": null,
   "metadata": {},
   "outputs": [],
   "source": []
  }
 ],
 "metadata": {
  "kernelspec": {
   "display_name": "Python 3",
   "language": "python",
   "name": "python3"
  },
  "language_info": {
   "codemirror_mode": {
    "name": "ipython",
    "version": 3
   },
   "file_extension": ".py",
   "mimetype": "text/x-python",
   "name": "python",
   "nbconvert_exporter": "python",
   "pygments_lexer": "ipython3",
   "version": "3.6.4"
  }
 },
 "nbformat": 4,
 "nbformat_minor": 2
}
